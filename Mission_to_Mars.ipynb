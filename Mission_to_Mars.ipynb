{
 "cells": [
  {
   "cell_type": "code",
   "execution_count": 1,
   "metadata": {},
   "outputs": [],
   "source": [
    "import pandas as pd\n",
    "import numpy as np\n",
    "from bs4 import BeautifulSoup\n",
    "import requests\n",
    "from splinter import Browser\n",
    "import pymongo\n",
    "import lxml\n",
    "import time"
   ]
  },
  {
   "cell_type": "markdown",
   "metadata": {},
   "source": [
    "# NASA LATEST MARS NEW"
   ]
  },
  {
   "cell_type": "code",
   "execution_count": 2,
   "metadata": {},
   "outputs": [],
   "source": [
    "# *** Scrape the [NASA Mars News Site] ***\n",
    "url_NASA = \"https://mars.nasa.gov/news\"\n",
    "r = requests.get(url_NASA) # sends a request to the url\n",
    "data = r.text # turns response into texts\n",
    "soup = BeautifulSoup(data, \"html.parser\") # changes the response from text to html"
   ]
  },
  {
   "cell_type": "code",
   "execution_count": 3,
   "metadata": {},
   "outputs": [
    {
     "data": {
      "text/plain": [
       "<a href=\"/news/8326/nasa-invests-in-visionary-technology/\">\n",
       "<div class=\"rollover_description\">\n",
       "<div class=\"rollover_description_inner\">\n",
       "NASA is investing in technology concepts, including several from JPL, that may one day be used for future space exploration missions.\n",
       "</div>\n",
       "<div class=\"overlay_arrow\">\n",
       "<img alt=\"More\" src=\"/assets/overlay-arrow.png\"/>\n",
       "</div>\n",
       "</div>\n",
       "<img alt=\"NASA Invests in Visionary Technology \" class=\"img-lazy\" data-lazy=\"/system/news_items/list_view_images/8326_niac320.jpg\" src=\"/assets/loading_320x240.png\"/>\n",
       "</a>"
      ]
     },
     "execution_count": 3,
     "metadata": {},
     "output_type": "execute_result"
    }
   ],
   "source": [
    "# collect the latest News Title and Paragragh Text. Assign the text to variables that you can reference later.\n",
    "soup_div = soup.find(class_=\"slide\") # within div in body, within <ul>, <li class=slide>.\n",
    "soup_news = soup_div.find_all('a') # search by anchor\n",
    "soup_news[0] # note: find_all returns list, and further find_alls only look at one entry in list at a time"
   ]
  },
  {
   "cell_type": "code",
   "execution_count": 4,
   "metadata": {},
   "outputs": [
    {
     "data": {
      "text/plain": [
       "'NASA Invests in Visionary Technology'"
      ]
     },
     "execution_count": 4,
     "metadata": {},
     "output_type": "execute_result"
    }
   ],
   "source": [
    "#getting the title\n",
    "NASA_latest_title = soup_news[1].get_text().strip()\n",
    "\n",
    "NASA_latest_title"
   ]
  },
  {
   "cell_type": "code",
   "execution_count": 5,
   "metadata": {},
   "outputs": [
    {
     "data": {
      "text/plain": [
       "'/news/8326/nasa-invests-in-visionary-technology/'"
      ]
     },
     "execution_count": 5,
     "metadata": {},
     "output_type": "execute_result"
    }
   ],
   "source": [
    "#getting the paragraph\n",
    "    # getting the paragraph url\n",
    "soup_p = soup_div.find_all('a', href=True)\n",
    "soup_p_url = soup_p[0]['href']\n",
    "soup_p_url"
   ]
  },
  {
   "cell_type": "code",
   "execution_count": 6,
   "metadata": {},
   "outputs": [],
   "source": [
    "#    Scrape the href of the first news article\n",
    "url = \"https://mars.nasa.gov/\"\n",
    "news_url = url + soup_p_url\n",
    "# request url\n",
    "r = requests.get(news_url)\n",
    "data = r.text\n",
    "soup = BeautifulSoup(data, \"html.parser\")\n",
    "\n",
    "soup_para = soup.find(class_='wysiwyg_content')\n",
    "soup_para = soup_para.find_all('p')"
   ]
  },
  {
   "cell_type": "code",
   "execution_count": 7,
   "metadata": {},
   "outputs": [
    {
     "data": {
      "text/plain": [
       "['NASA is investing in technology concepts that include meteoroid impact detection, space telescope swarms and small orbital debris mapping technologies that may one day be used for future space exploration missions. Five of the concepts are from NASA’s Jet Propulsion Laboratory, Pasadena, California.',\n",
       " 'The agency is investing in 25 early-stage technology proposals that have the potential to transform future human and robotic exploration missions, introduce new exploration capabilities, and significantly improve current approaches to building and operating aerospace systems.',\n",
       " 'The 2018 NASA Innovative Advanced Concepts (NIAC) Phase I concepts cover a wide range of innovations selected for their potential to revolutionize future space exploration. Phase I awards are valued at approximately $125,000, over nine months, to support initial definition and analysis of their concepts. If these basic feasibility studies are successful, awardees can apply for Phase II awards.',\n",
       " '“The NIAC program gives NASA the opportunity to explore visionary ideas that could transform future NASA missions by creating radically better or entirely new concepts while engaging America’s innovators and entrepreneurs as partners in the journey,” said Jim Reuter, acting associate administrator of NASA’s Space Technology Mission Directorate. “The concepts can then be evaluated for potential inclusion into our early stage technology portfolio.”',\n",
       " 'The selected 2018 Phase I proposals are:',\n",
       " \"Shapeshifters from Science Fiction to Science Fact: Globetrotting from Titan's Rugged Cliffs to its Deep Seafloors\\r\\nAliakbar Aghamohammadi, NASA’s Jet Propulsion Laboratory, Pasadena, California\",\n",
       " 'Biobot: Innovative Offloading of Astronauts for More Effective Exploration\\r\\nDavid Akin, University of Maryland, College Park',\n",
       " 'Lofted Environmental and Atmospheric Venus Sensors (LEAVES)\\r\\nJeffrey Balcerski, Ohio Aerospace Institute, Cleveland',\n",
       " 'Meteoroid Impact Detection for Exploration of Asteroids (MIDEA)\\r\\nSigrid Close, Stanford University, California',\n",
       " 'On-Orbit, Collision-Free Mapping of Small Orbital Debris\\r\\nChristine Hartzell, University of Maryland, College Park',\n",
       " 'Marsbee - Swarm of Flapping Wing Flyers for Enhanced Mars Exploration\\r\\nChang-kwon Kang, University of Alabama, Huntsville',\n",
       " 'Rotary Motion Extended Array Synthesis (R-MXAS)\\r\\nJohn Kendra, Leidos, Inc., Reston, Virginia',\n",
       " 'PROCSIMA: Diffractionless Beamed Propulsion for Breakthrough Interstellar Missions Chris\\r\\nLimbach, Texas A&M Engineering Experiment Station, College Station',\n",
       " 'SPARROW: Steam Propelled Autonomous Retrieval Robot for Ocean Worlds\\r\\nGareth Meirion-Griffith, JPL',\n",
       " 'BALLET: Balloon Locomotion for Extreme Terrain\\r\\nHari Nayar, JPL',\n",
       " 'Myco-Architecture off Planet: Growing Surface Structures at Destination\\r\\nLynn Rothscild, NASA’s Ames Research Center, Moffett Field, California',\n",
       " 'Modular Active Self-Assembling Space Telescope Swarms\\r\\nDmitry Savransky, Cornell University, Ithaca, New York',\n",
       " 'Astrophysics and Technical Study of a Solar Neutrino Spacecraft\\r\\nNickolas Solomey, Wichita State University, Kansas',\n",
       " 'Advanced Diffractive MetaFilm Sailcraft\\r\\nGrover Swartzlander, Rochester Institute of Technology, New York',\n",
       " 'Spectrally-Resolved Synthetic Imaging Interferometer\\r\\nJordan Wachs, Ball Aerospace & Technologies Corporation, Boulder, Colorado',\n",
       " 'Radioisotope Positron Propulsion\\r\\nRyan Weed, Positron Dynamics, Livermore, California',\n",
       " '“The 2018 Phase I competition was especially fierce, with over 230 proposals and only 25 winners,” said Jason Derleth, NIAC program executive. “I can’t wait to see what the new NIAC Fellows can do for NASA!”',\n",
       " 'Phase II studies allow awardees time to refine their designs and explore aspects of implementing the new technology. This year’s Phase II portfolio addresses a range of leading-edge concepts, including a breakthrough propulsion architecture for interstellar precursor missions, a large scale space telescope, novel exploration tools for Triton, and Mach effect gravity assist drive propulsion.',\n",
       " 'Awards under Phase II of the NIAC program can be worth as much as $500,000 for two-year studies, and allow proposers to further develop Phase I concepts that successfully demonstrated initial feasibility and benefit.',\n",
       " 'The selected 2018 Phase II proposals are:',\n",
       " 'Pulsed Fission-Fusion (PuFF) Propulsion Concept\\r\\nRobert Adams, NASA’s Marshall Space Flight Center, Huntsville, Alabama',\n",
       " 'A Breakthrough Propulsion Architecture for Interstellar Precursor Missions\\r\\nJohn Brophy, JPL',\n",
       " 'Kilometer Space Telescope (KST)\\r\\nDevon Crowe, Raytheon, El Segundo, California',\n",
       " 'Dismantling Rubble Pile Asteroids with AoES (Area-of-Effect Soft-bots)\\r\\nJay McMahon, University of Colorado, Boulder',\n",
       " \"Triton Hopper: Exploring Neptune's Captured Kuiper Belt Object\\r\\nSteven Oleson, NASA’s Glenn Research Center, Cleveland\",\n",
       " 'Spacecraft Scale Magnetospheric Protection from Galactic Cosmic Radiation\\r\\nJohn Slough, MSNW, LLC, Redmond, Washington',\n",
       " 'Direct Multipixel Imaging and Spectroscopy of an Exoplanet with a Solar Gravity Lens Mission\\r\\nSlava Turyshev, JPL',\n",
       " 'NIMPH: Nano Icy Moons Propellant Harvester\\r\\nMichael VanWoerkom, ExoTerra Resource, Littleton, Colorado',\n",
       " 'Mach Effect for in space propulsion: Interstellar mission\\r\\nJames Woodward, Space Studies Institute, Inc., Mojave, California',\n",
       " '“Phase II studies are given to the most successful Phase I fellows, whose ideas have the best possibility of changing the possible,” said Derleth. “Their two-year timeframe and larger budget allow them to really get going on the business of creating the future.”',\n",
       " 'NASA selected these projects through a peer-review process that evaluated innovativeness and technical viability. All projects are still in the early stages of development, most requiring 10 or more years of concept maturation and technology development before use on a NASA mission.',\n",
       " 'NIAC partners with forward-thinking scientists, engineers and citizen inventors from across the nation to help maintain America’s leadership in air and space. NIAC is funded by NASA’s Space Technology Mission Directorate, which is responsible for developing the cross-cutting, pioneering new technologies and capabilities needed by the agency to achieve its current and future missions.',\n",
       " 'For more information about NIAC, and a complete list of the selected proposals, visit:\\nhttps://www.nasa.gov/niac',\n",
       " 'For more information about NASA’s investments in space technology, visit:\\nhttps://www.nasa.gov/spacetech',\n",
       " 'Gina Anderson\\r\\nNASA Headquarters, Washington\\r\\n202-358-1160\\ngina.n.anderson@nasa.gov',\n",
       " '',\n",
       " 'Jane Platt\\r\\nJet Propulsion Laboratory, Pasadena, Calif.\\r\\n818-354-0880\\njane.platt@jpl.nasa.gov']"
      ]
     },
     "execution_count": 7,
     "metadata": {},
     "output_type": "execute_result"
    }
   ],
   "source": [
    "#    save the text of the paragraphs to a list\n",
    "NASA_latest_p = []\n",
    "for entry in soup_para:\n",
    "    paragraph = entry.get_text().strip()    \n",
    "    NASA_latest_p.append(paragraph)\n",
    "    \n",
    "\n",
    "NASA_latest_p"
   ]
  },
  {
   "cell_type": "code",
   "execution_count": 8,
   "metadata": {
    "scrolled": true
   },
   "outputs": [],
   "source": [
    "executable_path = {'executable_path': 'chromedriver.exe'}\n",
    "browser = Browser('chrome', **executable_path, headless=False)\n",
    "url = 'https://www.jpl.nasa.gov/spaceimages/?search=&category=Mars'\n",
    "browser.visit(url)"
   ]
  },
  {
   "cell_type": "code",
   "execution_count": 9,
   "metadata": {},
   "outputs": [],
   "source": [
    "# Use splinter to navigate the site and find the image url for the current Featured Mars Image\n",
    "#     the mars featured images are under a list element of the slide class. '>' signifies a child element.  \n",
    "browser.find_by_css('li.slide>a.fancybox').first.click()\n",
    "time.sleep(1)"
   ]
  },
  {
   "cell_type": "code",
   "execution_count": null,
   "metadata": {},
   "outputs": [],
   "source": [
    "# assign the url string to a variable called `featured_image_url`.\n",
    "#     Here, I decide to get both the full-size .jpg and an 800x600 size image for the webpage\n",
    "html = browser.html\n",
    "response = requests.get(url)\n",
    "soup = BeautifulSoup(response.text, \"html.parser\")\n",
    "\n",
    "# full-size jpg (to be linked if image is clicked)\n",
    "feat_full_img_soup = soup.find(class_=\"main_image\")\n",
    "feat_full_img = feat_full_img_soup.get('src')\n",
    "\n",
    "# # Retrieve page with the requests module\n",
    "# response = requests.get(url)\n",
    "# # Create BeautifulSoup object; parse with 'html.parser'\n",
    "# soup = BeautifulSoup(response.text, 'html.parser')"
   ]
  },
  {
   "cell_type": "code",
   "execution_count": null,
   "metadata": {},
   "outputs": [],
   "source": [
    "# smaller size jpg (to be displayed on the webpage)\n",
    "#     uses splinter instead of beautiful soup\n",
    "browser.click_link_by_partial_href('800x600.jpg')\n",
    "#     switch over to the next browser (window no. 2)\n",
    "#     save it's url, then close 2nd window\n",
    "browser.windows.current = browser.windows[1]  \n",
    "featured_image_url = browser.url\n",
    "browser.windows[1].close()"
   ]
  },
  {
   "cell_type": "code",
   "execution_count": null,
   "metadata": {},
   "outputs": [],
   "source": [
    "# save the two urls \n",
    "ori_url = 'https://www.jpl.nasa.gov'\n",
    "feat_full_img = ori_url + feat_full_img\n",
    "\n",
    "feat_full_img"
   ]
  },
  {
   "cell_type": "markdown",
   "metadata": {},
   "source": [
    "# Mars Weather "
   ]
  },
  {
   "cell_type": "code",
   "execution_count": 10,
   "metadata": {},
   "outputs": [
    {
     "data": {
      "text/plain": [
       "'Sol 2039 (May 02, 2018), Sunny, high 0C/32F, low -74C/-101F, pressure at 7.28 hPa, daylight 05:23-17:20'"
      ]
     },
     "execution_count": 10,
     "metadata": {},
     "output_type": "execute_result"
    }
   ],
   "source": [
    "''' \n",
    "*** Visit the Mars Weather twitter account (https://twitter.com/marswxreport?lang=en) and scrape the latest \n",
    "Mars weather tweet from the page. Save the tweet text for the weather report as a variable called `mars_weather`. ***\n",
    "'''\n",
    "url = 'https://twitter.com/marswxreport?lang=en'\n",
    "r = requests.get(url)\n",
    "data = r.text\n",
    "soup = BeautifulSoup(data, 'html.parser')\n",
    "\n",
    "mars_tweets = soup.find(class_='stream-items js-navigable-stream')\n",
    "mars_tweets = mars_tweets.find(class_=\"js-tweet-text-container\")\n",
    "\n",
    "mars_weather = mars_tweets.p.text\n",
    "mars_weather"
   ]
  },
  {
   "cell_type": "markdown",
   "metadata": {},
   "source": [
    "# Mars Facts"
   ]
  },
  {
   "cell_type": "code",
   "execution_count": 11,
   "metadata": {},
   "outputs": [
    {
     "data": {
      "text/html": [
       "<div>\n",
       "<style scoped>\n",
       "    .dataframe tbody tr th:only-of-type {\n",
       "        vertical-align: middle;\n",
       "    }\n",
       "\n",
       "    .dataframe tbody tr th {\n",
       "        vertical-align: top;\n",
       "    }\n",
       "\n",
       "    .dataframe thead th {\n",
       "        text-align: right;\n",
       "    }\n",
       "</style>\n",
       "<table border=\"1\" class=\"dataframe\">\n",
       "  <thead>\n",
       "    <tr style=\"text-align: right;\">\n",
       "      <th></th>\n",
       "      <th>0</th>\n",
       "      <th>1</th>\n",
       "    </tr>\n",
       "  </thead>\n",
       "  <tbody>\n",
       "    <tr>\n",
       "      <th>0</th>\n",
       "      <td>Equatorial Diameter:</td>\n",
       "      <td>6,792 km</td>\n",
       "    </tr>\n",
       "    <tr>\n",
       "      <th>1</th>\n",
       "      <td>Polar Diameter:</td>\n",
       "      <td>6,752 km</td>\n",
       "    </tr>\n",
       "    <tr>\n",
       "      <th>2</th>\n",
       "      <td>Mass:</td>\n",
       "      <td>6.42 x 10^23 kg (10.7% Earth)</td>\n",
       "    </tr>\n",
       "    <tr>\n",
       "      <th>3</th>\n",
       "      <td>Moons:</td>\n",
       "      <td>2 (Phobos &amp; Deimos)</td>\n",
       "    </tr>\n",
       "    <tr>\n",
       "      <th>4</th>\n",
       "      <td>Orbit Distance:</td>\n",
       "      <td>227,943,824 km (1.52 AU)</td>\n",
       "    </tr>\n",
       "    <tr>\n",
       "      <th>5</th>\n",
       "      <td>Orbit Period:</td>\n",
       "      <td>687 days (1.9 years)</td>\n",
       "    </tr>\n",
       "    <tr>\n",
       "      <th>6</th>\n",
       "      <td>Surface Temperature:</td>\n",
       "      <td>-153 to 20 °C</td>\n",
       "    </tr>\n",
       "    <tr>\n",
       "      <th>7</th>\n",
       "      <td>First Record:</td>\n",
       "      <td>2nd millennium BC</td>\n",
       "    </tr>\n",
       "    <tr>\n",
       "      <th>8</th>\n",
       "      <td>Recorded By:</td>\n",
       "      <td>Egyptian astronomers</td>\n",
       "    </tr>\n",
       "  </tbody>\n",
       "</table>\n",
       "</div>"
      ],
      "text/plain": [
       "                      0                              1\n",
       "0  Equatorial Diameter:                       6,792 km\n",
       "1       Polar Diameter:                       6,752 km\n",
       "2                 Mass:  6.42 x 10^23 kg (10.7% Earth)\n",
       "3                Moons:            2 (Phobos & Deimos)\n",
       "4       Orbit Distance:       227,943,824 km (1.52 AU)\n",
       "5         Orbit Period:           687 days (1.9 years)\n",
       "6  Surface Temperature:                  -153 to 20 °C\n",
       "7         First Record:              2nd millennium BC\n",
       "8          Recorded By:           Egyptian astronomers"
      ]
     },
     "execution_count": 11,
     "metadata": {},
     "output_type": "execute_result"
    }
   ],
   "source": [
    "''' \n",
    "*** Visit the Mars Facts webpage (http://space-facts.com/mars/) and use Pandas to scrape the table containing \n",
    "facts about the planet including Diameter, Mass, etc. ***\n",
    "'''\n",
    "facts_url = 'http://space-facts.com/mars/'\n",
    "all_facts_df = pd.read_html(facts_url)     # searches for html tables & returns list of dataframes\n",
    "all_facts_df = all_facts_df[0]\n",
    "all_facts_df"
   ]
  },
  {
   "cell_type": "code",
   "execution_count": 12,
   "metadata": {},
   "outputs": [
    {
     "data": {
      "text/plain": [
       "' # clean up df (may be unnecessary)\\nall_facts_df.rename_axis({0:\"category\", 1:\"content\"}, axis=1, inplace=True)\\nall_facts_df.set_index(\"category\", inplace=True)\\nall_facts_df \\n'"
      ]
     },
     "execution_count": 12,
     "metadata": {},
     "output_type": "execute_result"
    }
   ],
   "source": [
    "''' # clean up df (may be unnecessary)\n",
    "all_facts_df.rename_axis({0:\"category\", 1:\"content\"}, axis=1, inplace=True)\n",
    "all_facts_df.set_index(\"category\", inplace=True)\n",
    "all_facts_df \n",
    "'''"
   ]
  },
  {
   "cell_type": "code",
   "execution_count": 13,
   "metadata": {},
   "outputs": [
    {
     "data": {
      "text/plain": [
       "'<table border=\"1\" class=\"dataframe\">\\n  <tbody>\\n    <tr>\\n      <td>Equatorial Diameter:</td>\\n      <td>6,792 km</td>\\n    </tr>\\n    <tr>\\n      <td>Polar Diameter:</td>\\n      <td>6,752 km</td>\\n    </tr>\\n    <tr>\\n      <td>Mass:</td>\\n      <td>6.42 x 10^23 kg (10.7% Earth)</td>\\n    </tr>\\n    <tr>\\n      <td>Moons:</td>\\n      <td>2 (Phobos &amp; Deimos)</td>\\n    </tr>\\n    <tr>\\n      <td>Orbit Distance:</td>\\n      <td>227,943,824 km (1.52 AU)</td>\\n    </tr>\\n    <tr>\\n      <td>Orbit Period:</td>\\n      <td>687 days (1.9 years)</td>\\n    </tr>\\n    <tr>\\n      <td>Surface Temperature:</td>\\n      <td>-153 to 20 °C</td>\\n    </tr>\\n    <tr>\\n      <td>First Record:</td>\\n      <td>2nd millennium BC</td>\\n    </tr>\\n    <tr>\\n      <td>Recorded By:</td>\\n      <td>Egyptian astronomers</td>\\n    </tr>\\n  </tbody>\\n</table>'"
      ]
     },
     "execution_count": 13,
     "metadata": {},
     "output_type": "execute_result"
    }
   ],
   "source": [
    "# Use Pandas to convert the data to a HTML table string.\n",
    "facts_html = all_facts_df.to_html(header=False, index=False, justify='left')\n",
    "\n",
    "facts_html"
   ]
  },
  {
   "cell_type": "markdown",
   "metadata": {},
   "source": [
    "# Mars Hermisphere"
   ]
  },
  {
   "cell_type": "code",
   "execution_count": 16,
   "metadata": {},
   "outputs": [],
   "source": [
    "''' \n",
    "*** Visit the USGS Astrogeology site \n",
    "(https://astrogeology.usgs.gov/search/results?q=hemisphere+enhanced&k1=target&v1=Mars) \n",
    "to obtain high resolution images for each of Mar's hemispheres.\n",
    "'''\n",
    "executable_path = {'executable_path': 'chromedriver.exe'}     # included these 2 lines\n",
    "browser = Browser('chrome', **executable_path, headless=False)     # to prevent browser.visit() failing \n",
    "url = 'https://astrogeology.usgs.gov/search/results?q=hemisphere+enhanced&k1=target&v1=Mars'\n",
    "browser.visit(url)"
   ]
  },
  {
   "cell_type": "code",
   "execution_count": 17,
   "metadata": {},
   "outputs": [
    {
     "data": {
      "text/plain": [
       "array(['https://astrogeology.usgs.gov/search/map/Mars/Viking/cerberus_enhanced',\n",
       "       'https://astrogeology.usgs.gov/search/map/Mars/Viking/schiaparelli_enhanced',\n",
       "       'https://astrogeology.usgs.gov/search/map/Mars/Viking/syrtis_major_enhanced',\n",
       "       'https://astrogeology.usgs.gov/search/map/Mars/Viking/valles_marineris_enhanced'],\n",
       "      dtype='<U78')"
      ]
     },
     "execution_count": 17,
     "metadata": {},
     "output_type": "execute_result"
    }
   ],
   "source": [
    "# click each of the links to the hemispheres to find the image url to the full resolution image.\n",
    "#    get list of <a href links> \n",
    "html = browser.html\n",
    "soup = BeautifulSoup(html, 'html.parser')\n",
    "\n",
    "hemi_soup = soup.find_all(class_='itemLink product-item')\n",
    "\n",
    "hemi_href_ls = []\n",
    "\n",
    "for item in hemi_soup:\n",
    "    url_index = 'https://astrogeology.usgs.gov'\n",
    "    href = item['href']\n",
    "    link = url_index + href\n",
    "    hemi_href_ls.append(link)\n",
    "\n",
    "# Get unique hrefs\n",
    "'''     I could just go to these urls separately using browser.visit(url). But I interpret the instructions \n",
    "        as saying that I need to use splinter to click on the link in the browser.     '''\n",
    "hemi_href_ls = np.unique(hemi_href_ls)\n",
    "hemi_href_ls"
   ]
  },
  {
   "cell_type": "code",
   "execution_count": 18,
   "metadata": {},
   "outputs": [
    {
     "data": {
      "text/plain": [
       "\" Caution!: It seems splinter can only click link based on the exact wording of the text\\nbrowser.click_link_by_partial_text('Cerberus Hemisphere')    #e.g. function will fail to find lower case 'cerberus'\\n\""
      ]
     },
     "execution_count": 18,
     "metadata": {},
     "output_type": "execute_result"
    }
   ],
   "source": [
    "''' Caution!: It seems splinter can only click link based on the exact wording of the text\n",
    "browser.click_link_by_partial_text('Cerberus Hemisphere')    #e.g. function will fail to find lower case 'cerberus'\n",
    "'''"
   ]
  },
  {
   "cell_type": "code",
   "execution_count": 19,
   "metadata": {},
   "outputs": [
    {
     "data": {
      "text/plain": [
       "'Syrtis Major Hemisphere'"
      ]
     },
     "execution_count": 19,
     "metadata": {},
     "output_type": "execute_result"
    }
   ],
   "source": [
    "# Beautiful soup to search browser html for headers (these contain the hemisphere names)\n",
    "html = browser.html\n",
    "soup = BeautifulSoup(html, 'html.parser')\n",
    "\n",
    "headers_soup = soup.find_all('h3')\n",
    "#eliminates \" Enhanced\" string at the end of each header. \n",
    "test = headers_soup[2].text.replace(\" Enhanced\", \"\")\n",
    "test"
   ]
  },
  {
   "cell_type": "code",
   "execution_count": 20,
   "metadata": {},
   "outputs": [
    {
     "data": {
      "text/plain": [
       "[{'title': 'Cerberus Hemisphere',\n",
       "  'img_url': 'https://astropedia.astrogeology.usgs.gov/download/Mars/Viking/cerberus_enhanced.tif/full.jpg'},\n",
       " {'title': 'Schiaparelli Hemisphere',\n",
       "  'img_url': 'https://astropedia.astrogeology.usgs.gov/download/Mars/Viking/schiaparelli_enhanced.tif/full.jpg'},\n",
       " {'title': 'Syrtis Major Hemisphere',\n",
       "  'img_url': 'https://astropedia.astrogeology.usgs.gov/download/Mars/Viking/syrtis_major_enhanced.tif/full.jpg'},\n",
       " {'title': 'Valles Marineris Hemisphere',\n",
       "  'img_url': 'https://astropedia.astrogeology.usgs.gov/download/Mars/Viking/valles_marineris_enhanced.tif/full.jpg'}]"
      ]
     },
     "execution_count": 20,
     "metadata": {},
     "output_type": "execute_result"
    }
   ],
   "source": [
    "# For each header in the beautiful soup, click link associated with it and get img_url \n",
    "hemisphere_image_urls = []\n",
    "url = 'https://astrogeology.usgs.gov/search/results?q=hemisphere+enhanced&k1=target&v1=Mars'\n",
    "\n",
    "for header in headers_soup:\n",
    "    #start at origin url for the Mars hemisphere section \n",
    "    window = browser.windows[0]     # current window, the first window\n",
    "    browser.visit(url)\n",
    "    time.sleep(2)     # wait 2 secs for browser to load \n",
    "    #getting title\n",
    "    title = header.text\n",
    "    title = title.replace(\" Enhanced\", \"\")     #get rid of \" \" + \"Enhanced\" for when dict is appended\n",
    "    browser.click_link_by_partial_text(title)\n",
    "    time.sleep(2)     # again, wait 2 secs for browser to load    \n",
    "    browser.click_link_by_text('Sample')\n",
    "    browser.windows.current = browser.windows[1]     # switch current window to the window that just opened\n",
    "    img_url = browser.url\n",
    "    browser.windows.current = window     # switch the current window back \n",
    "    hemisphere_image_urls.append({'title':title, 'img_url':img_url})\n",
    "    window.close_others()    # close all the other windows to keep browser nice and tidy!\n",
    "\n",
    "hemisphere_image_urls"
   ]
  },
  {
   "cell_type": "code",
   "execution_count": null,
   "metadata": {},
   "outputs": [],
   "source": []
  }
 ],
 "metadata": {
  "kernelspec": {
   "display_name": "Python 3",
   "language": "python",
   "name": "python3"
  },
  "language_info": {
   "codemirror_mode": {
    "name": "ipython",
    "version": 3
   },
   "file_extension": ".py",
   "mimetype": "text/x-python",
   "name": "python",
   "nbconvert_exporter": "python",
   "pygments_lexer": "ipython3",
   "version": "3.6.3"
  }
 },
 "nbformat": 4,
 "nbformat_minor": 2
}
